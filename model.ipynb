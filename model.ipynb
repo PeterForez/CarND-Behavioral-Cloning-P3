{
 "cells": [
  {
   "cell_type": "markdown",
   "id": "9c67ce4a",
   "metadata": {},
   "source": [
    "# Import Libraries"
   ]
  },
  {
   "cell_type": "code",
   "execution_count": 1,
   "id": "1cc3c79c",
   "metadata": {},
   "outputs": [
    {
     "name": "stderr",
     "output_type": "stream",
     "text": [
      "Using TensorFlow backend.\n"
     ]
    }
   ],
   "source": [
    "import csv\n",
    "import cv2\n",
    "import numpy as np\n",
    "import matplotlib.pyplot as plt\n",
    "\n",
    "\n",
    "from keras.models import Sequential\n",
    "from keras.layers import Flatten, Dense, Lambda, Cropping2D\n",
    "from keras.layers.convolutional import Convolution2D, Conv2D\n",
    "from keras.layers.pooling       import MaxPooling2D"
   ]
  },
  {
   "cell_type": "code",
   "execution_count": 2,
   "id": "8a119aee",
   "metadata": {},
   "outputs": [],
   "source": [
    "EPOCH = 5"
   ]
  },
  {
   "cell_type": "code",
   "execution_count": 3,
   "id": "acd24010",
   "metadata": {},
   "outputs": [],
   "source": [
    "def plot_mse(history):\n",
    "    plt.plot(history.history['loss'])\n",
    "    plt.plot(history.history['val_loss'])\n",
    "    plt.title('model mean squared error loss')\n",
    "    plt.ylabel('mean squared error loss')\n",
    "    plt.xlabel('epoch')\n",
    "    plt.legend(['training set', 'validation set'], loc='upper right')\n",
    "    plt.show()"
   ]
  },
  {
   "cell_type": "code",
   "execution_count": 4,
   "id": "0d1d3f3d",
   "metadata": {},
   "outputs": [],
   "source": [
    "lines = []\n",
    "#with open('../data/driving_log.csv') as csvfile:\n",
    "with open('data/driving_log.csv') as csvfile:\n",
    "    reader = csv.reader(csvfile)\n",
    "    for line in reader:\n",
    "        lines.append(line)\n",
    "lines = lines[1:]"
   ]
  },
  {
   "cell_type": "code",
   "execution_count": 5,
   "id": "1c36dcf8",
   "metadata": {},
   "outputs": [
    {
     "name": "stdout",
     "output_type": "stream",
     "text": [
      "We have 8036 images for training\n"
     ]
    }
   ],
   "source": [
    "print(\"We have {} images for training\".format(len(lines)))"
   ]
  },
  {
   "cell_type": "code",
   "execution_count": 6,
   "id": "ea709113",
   "metadata": {},
   "outputs": [
    {
     "data": {
      "text/plain": [
       "['IMG/center_2016_12_01_13_30_48_287.jpg',\n",
       " ' IMG/left_2016_12_01_13_30_48_287.jpg',\n",
       " ' IMG/right_2016_12_01_13_30_48_287.jpg',\n",
       " ' 0',\n",
       " ' 0',\n",
       " ' 0',\n",
       " ' 22.14829']"
      ]
     },
     "execution_count": 6,
     "metadata": {},
     "output_type": "execute_result"
    }
   ],
   "source": [
    "lines[0]"
   ]
  },
  {
   "cell_type": "code",
   "execution_count": 7,
   "id": "f1e85c63",
   "metadata": {},
   "outputs": [],
   "source": [
    "if 1:\n",
    "    images = []\n",
    "    measurements = []\n",
    "    for line in lines:\n",
    "        source_path = line[0]\n",
    "        filename = source_path.split('/')[-1]\n",
    "        #current_path = '../data/IMG' + filename\n",
    "        current_path = 'data/IMG/' + filename\n",
    "\n",
    "        image = cv2.imread(current_path)\n",
    "        images.append(image)\n",
    "\n",
    "        measurement = float(line[3])\n",
    "        measurements.append(measurement)"
   ]
  },
  {
   "cell_type": "code",
   "execution_count": 8,
   "id": "abc752dc",
   "metadata": {},
   "outputs": [
    {
     "name": "stdout",
     "output_type": "stream",
     "text": [
      "We have 8036 images for training\n"
     ]
    }
   ],
   "source": [
    "print(\"We have {} images for training\".format(len(images)))"
   ]
  },
  {
   "cell_type": "code",
   "execution_count": 23,
   "id": "754eacfa",
   "metadata": {},
   "outputs": [],
   "source": [
    "correction = 0.2\n",
    "add_left   = 0\n",
    "add_right  = 0\n",
    "\n",
    "images = []\n",
    "measurements = []\n",
    "path = \"D:/GitHub/Behavioral-Cloning/\" + 'data/IMG/'\n",
    "for line in lines:\n",
    "    path_c = path + line[0].split('/')[-1]\n",
    "    steering_c = float(line[3])\n",
    "    image_c = cv2.imread(path_c)\n",
    "    images.append(image_c)\n",
    "    measurements.append(steering_c)\n",
    "    \n",
    "    if add_left:\n",
    "        path_l = path + line[1].split('/')[-1]\n",
    "        steering_l = steering_c + correction\n",
    "        image_l = cv2.imread(path_l)\n",
    "        images.append(image_l)\n",
    "        measurements.append(steering_l)\n",
    "    if add_right:\n",
    "        path_r = path + line[2].split('/')[-1]\n",
    "        steering_r = steering_c - correction\n",
    "        image_r = cv2.imread(path_r)\n",
    "        images.append(image_r)\n",
    "        measurements.append(steering_r)"
   ]
  },
  {
   "cell_type": "code",
   "execution_count": 24,
   "id": "a8cb9a82",
   "metadata": {},
   "outputs": [
    {
     "name": "stdout",
     "output_type": "stream",
     "text": [
      "We have 8036 images for training\n"
     ]
    }
   ],
   "source": [
    "print(\"We have {} images for training\".format(len(images)))"
   ]
  },
  {
   "cell_type": "markdown",
   "id": "3cf31cb9",
   "metadata": {},
   "source": [
    "# Augmenting the Data by flipping horizontally"
   ]
  },
  {
   "cell_type": "code",
   "execution_count": 11,
   "id": "3089dedd",
   "metadata": {},
   "outputs": [],
   "source": [
    "augmented_images, augmented_measurments = [], []\n",
    "for image, measurement in zip(images, measurements):\n",
    "    augmented_images.append(image)\n",
    "    augmented_images.append(cv2.flip(image,1))\n",
    "    \n",
    "    augmented_measurments.append(measurement)\n",
    "    augmented_measurments.append(measurement*-1.0)"
   ]
  },
  {
   "cell_type": "code",
   "execution_count": 12,
   "id": "7fe6f2f7",
   "metadata": {},
   "outputs": [
    {
     "name": "stdout",
     "output_type": "stream",
     "text": [
      "We have 16072 images for training\n"
     ]
    }
   ],
   "source": [
    "print(\"We have {} images for training\".format(len(augmented_images)))"
   ]
  },
  {
   "cell_type": "code",
   "execution_count": 13,
   "id": "b6cca39f",
   "metadata": {},
   "outputs": [],
   "source": [
    "add_flip = 1\n",
    "if add_flip:\n",
    "    X_train = np.array(augmented_images)\n",
    "    y_train = np.array(augmented_measurments)\n",
    "else: \n",
    "    X_train = np.array(images)\n",
    "    y_train = np.array(measurements)"
   ]
  },
  {
   "cell_type": "code",
   "execution_count": 14,
   "id": "65cf0a66",
   "metadata": {},
   "outputs": [
    {
     "data": {
      "text/plain": [
       "((16072, 160, 320, 3), (16072,))"
      ]
     },
     "execution_count": 14,
     "metadata": {},
     "output_type": "execute_result"
    }
   ],
   "source": [
    "X_train.shape, y_train.shape"
   ]
  },
  {
   "cell_type": "markdown",
   "id": "0e725258",
   "metadata": {},
   "source": [
    "## Fifth Version of the Model"
   ]
  },
  {
   "cell_type": "code",
   "execution_count": 15,
   "id": "ecae4700",
   "metadata": {},
   "outputs": [
    {
     "name": "stderr",
     "output_type": "stream",
     "text": [
      "C:\\Users\\peter.forez\\.conda\\envs\\carnd-term1\\lib\\site-packages\\ipykernel_launcher.py:5: UserWarning: Update your `Conv2D` call to the Keras 2 API: `Conv2D(24, (5, 5), activation=\"relu\", strides=(2, 2))`\n",
      "  \"\"\"\n",
      "C:\\Users\\peter.forez\\.conda\\envs\\carnd-term1\\lib\\site-packages\\ipykernel_launcher.py:6: UserWarning: Update your `Conv2D` call to the Keras 2 API: `Conv2D(36, (5, 5), activation=\"relu\", strides=(2, 2))`\n",
      "  \n",
      "C:\\Users\\peter.forez\\.conda\\envs\\carnd-term1\\lib\\site-packages\\ipykernel_launcher.py:7: UserWarning: Update your `Conv2D` call to the Keras 2 API: `Conv2D(48, (5, 5), activation=\"relu\", strides=(2, 2))`\n",
      "  import sys\n"
     ]
    },
    {
     "name": "stdout",
     "output_type": "stream",
     "text": [
      "_________________________________________________________________\n",
      "Layer (type)                 Output Shape              Param #   \n",
      "=================================================================\n",
      "lambda_1 (Lambda)            (None, 160, 320, 3)       0         \n",
      "_________________________________________________________________\n",
      "cropping2d_1 (Cropping2D)    (None, 65, 320, 3)        0         \n",
      "_________________________________________________________________\n",
      "conv2d_1 (Conv2D)            (None, 31, 158, 24)       1824      \n",
      "_________________________________________________________________\n",
      "conv2d_2 (Conv2D)            (None, 14, 77, 36)        21636     \n",
      "_________________________________________________________________\n",
      "conv2d_3 (Conv2D)            (None, 5, 37, 48)         43248     \n",
      "_________________________________________________________________\n",
      "conv2d_4 (Conv2D)            (None, 3, 35, 64)         27712     \n",
      "_________________________________________________________________\n",
      "conv2d_5 (Conv2D)            (None, 1, 33, 64)         36928     \n",
      "_________________________________________________________________\n",
      "flatten_1 (Flatten)          (None, 2112)              0         \n",
      "_________________________________________________________________\n",
      "dense_1 (Dense)              (None, 100)               211300    \n",
      "_________________________________________________________________\n",
      "dense_2 (Dense)              (None, 50)                5050      \n",
      "_________________________________________________________________\n",
      "dense_3 (Dense)              (None, 10)                510       \n",
      "_________________________________________________________________\n",
      "dense_4 (Dense)              (None, 1)                 11        \n",
      "=================================================================\n",
      "Total params: 348,219\n",
      "Trainable params: 348,219\n",
      "Non-trainable params: 0\n",
      "_________________________________________________________________\n",
      "Train on 12857 samples, validate on 3215 samples\n",
      "Epoch 1/5\n",
      "12857/12857 [==============================] - 142s 11ms/step - loss: 0.0114 - val_loss: 0.0103\n",
      "Epoch 2/5\n",
      "12857/12857 [==============================] - 149s 12ms/step - loss: 0.0098 - val_loss: 0.0098\n",
      "Epoch 3/5\n",
      "12857/12857 [==============================] - 159s 12ms/step - loss: 0.0095 - val_loss: 0.0103\n",
      "Epoch 4/5\n",
      "12857/12857 [==============================] - 153s 12ms/step - loss: 0.0093 - val_loss: 0.0096\n",
      "Epoch 5/5\n",
      "12857/12857 [==============================] - 159s 12ms/step - loss: 0.0089 - val_loss: 0.0109\n"
     ]
    },
    {
     "data": {
      "image/png": "[encoded data removed]",
      "text/plain": [
       "<Figure size 432x288 with 1 Axes>"
      ]
     },
     "metadata": {
      "needs_background": "light"
     },
     "output_type": "display_data"
    }
   ],
   "source": [
    "if 1:\n",
    "    model = Sequential()\n",
    "    model.add(Lambda(lambda x : x / 255.0 - 0.5, input_shape = (160,320,3)))\n",
    "    model.add(Cropping2D(cropping = ((70, 25), (0,0) )))\n",
    "    model.add(Conv2D(24,(5,5), subsample = (2,2), activation = 'relu'))\n",
    "    model.add(Conv2D(36,(5,5), subsample = (2,2), activation = 'relu'))\n",
    "    model.add(Conv2D(48,(5,5), subsample = (2,2), activation = 'relu'))\n",
    "    model.add(Conv2D(64,(3,3), activation = 'relu'))\n",
    "    model.add(Conv2D(64,(3,3), activation = 'relu'))\n",
    "    model.add(Flatten())\n",
    "    model.add(Dense(100))\n",
    "    model.add(Dense(50))\n",
    "    model.add(Dense(10))\n",
    "    model.add(Dense(1))\n",
    "    model.compile(loss = 'mse', optimizer = 'adam')\n",
    "    model.summary()\n",
    "    \n",
    "    history = model.fit(X_train, y_train, validation_split = 0.2, shuffle = True, epochs = EPOCH)#The `nb_epoch` argument in `fit` has been renamed `epochs`.\n",
    "    model.save('model.h5')\n",
    "    model_5 = model\n",
    "    plot_mse(history)"
   ]
  },
  {
   "cell_type": "code",
   "execution_count": 16,
   "id": "28e6864c",
   "metadata": {},
   "outputs": [
    {
     "name": "stdout",
     "output_type": "stream",
     "text": [
      "_________________________________________________________________\n",
      "Layer (type)                 Output Shape              Param #   \n",
      "=================================================================\n",
      "lambda_1 (Lambda)            (None, 160, 320, 3)       0         \n",
      "_________________________________________________________________\n",
      "cropping2d_1 (Cropping2D)    (None, 65, 320, 3)        0         \n",
      "_________________________________________________________________\n",
      "conv2d_1 (Conv2D)            (None, 31, 158, 24)       1824      \n",
      "_________________________________________________________________\n",
      "conv2d_2 (Conv2D)            (None, 14, 77, 36)        21636     \n",
      "_________________________________________________________________\n",
      "conv2d_3 (Conv2D)            (None, 5, 37, 48)         43248     \n",
      "_________________________________________________________________\n",
      "conv2d_4 (Conv2D)            (None, 3, 35, 64)         27712     \n",
      "_________________________________________________________________\n",
      "conv2d_5 (Conv2D)            (None, 1, 33, 64)         36928     \n",
      "_________________________________________________________________\n",
      "flatten_1 (Flatten)          (None, 2112)              0         \n",
      "_________________________________________________________________\n",
      "dense_1 (Dense)              (None, 100)               211300    \n",
      "_________________________________________________________________\n",
      "dense_2 (Dense)              (None, 50)                5050      \n",
      "_________________________________________________________________\n",
      "dense_3 (Dense)              (None, 10)                510       \n",
      "_________________________________________________________________\n",
      "dense_4 (Dense)              (None, 1)                 11        \n",
      "=================================================================\n",
      "Total params: 348,219\n",
      "Trainable params: 348,219\n",
      "Non-trainable params: 0\n",
      "_________________________________________________________________\n"
     ]
    }
   ],
   "source": [
    "model = model_5\n",
    "model.summary()\n",
    "from keras.utils import plot_model #pip install pydot\n",
    "plot_model(model, to_file='model.png',show_shapes=True)"
   ]
  },
  {
   "cell_type": "markdown",
   "id": "aeaab949",
   "metadata": {},
   "source": [
    "## Fourth Version of the Model"
   ]
  },
  {
   "cell_type": "code",
   "execution_count": 18,
   "id": "8d02d3a8",
   "metadata": {},
   "outputs": [],
   "source": [
    "if 0:\n",
    "    model = Sequential()\n",
    "    model.add(Lambda(lambda x : x / 255.0 - 0.5, input_shape = (160,320,3)))\n",
    "    model.add(Cropping2D(cropping = ((70, 25), (0,0) )))\n",
    "    #model.add(Convolution2D(6,5,5,activation = 'relu'))\n",
    "    model.add(Conv2D(6,(5,5),activation = 'relu'))\n",
    "    model.add(MaxPooling2D())\n",
    "    #model.add(Convolution2D(6,5,5,activation = 'relu'))\n",
    "    model.add(Conv2D(6,(5,5),activation = 'relu'))\n",
    "    model.add(Flatten())\n",
    "    model.add(Dense(120))\n",
    "    model.add(Dense(84))\n",
    "    model.add(Dense(1))\n",
    "    model.compile(loss = 'mse', optimizer = 'adam')\n",
    "    model.summary()\n",
    "    \n",
    "    history = model.fit(X_train, y_train, validation_split = 0.2, shuffle = True, epochs = EPOCH)#The `nb_epoch` argument in `fit` has been renamed `epochs`.\n",
    "    model.save('model.h5')\n",
    "    model_4 = model\n",
    "    plot_mse(history)"
   ]
  },
  {
   "cell_type": "markdown",
   "id": "fd2c3105",
   "metadata": {},
   "source": [
    "## Third Version of the Model"
   ]
  },
  {
   "cell_type": "code",
   "execution_count": 19,
   "id": "4eee2186",
   "metadata": {},
   "outputs": [],
   "source": [
    "if 0:\n",
    "    model = Sequential()\n",
    "    model.add(Lambda(lambda x : x / 255.0 - 0.5, input_shape = (160,320,3)))\n",
    "    #model.add(Convolution2D(6,5,5,activation = 'relu'))\n",
    "    model.add(Conv2D(6,(5,5),activation = 'relu'))\n",
    "    model.add(MaxPooling2D())\n",
    "    #model.add(Convolution2D(6,5,5,activation = 'relu'))\n",
    "    model.add(Conv2D(6,(5,5),activation = 'relu'))\n",
    "    model.add(Flatten())\n",
    "    model.add(Dense(120))\n",
    "    model.add(Dense(84))\n",
    "    model.add(Dense(1))\n",
    "    model.compile(loss = 'mse', optimizer = 'adam')\n",
    "    model.summary()\n",
    "    \n",
    "    history = model.fit(X_train, y_train, validation_split = 0.2, shuffle = True, epochs = EPOCH)#The `nb_epoch` argument in `fit` has been renamed `epochs`.\n",
    "    model.save('model.h5')\n",
    "    model_3 = model\n",
    "    plot_mse(history)"
   ]
  },
  {
   "cell_type": "markdown",
   "id": "fd8a8d60",
   "metadata": {},
   "source": [
    "## Second Version of the Model"
   ]
  },
  {
   "cell_type": "code",
   "execution_count": 20,
   "id": "2c1f68dd",
   "metadata": {},
   "outputs": [],
   "source": [
    "if 0:\n",
    "    model = Sequential()\n",
    "    model.add(Lambda(lambda x : x / 255.0 - 0.5, input_shape = (160,320,3)))\n",
    "    model.add(Flatten())\n",
    "    model.add(Dense(1))\n",
    "    model.compile(loss = 'mse', optimizer = 'adam')\n",
    "    model.summary()\n",
    "    \n",
    "    history = model.fit(X_train, y_train, validation_split = 0.2, shuffle = True, epochs = EPOCH)#The `nb_epoch` argument in `fit` has been renamed `epochs`.\n",
    "    model.save('model.h5')\n",
    "    model_2 = model\n",
    "    plot_mse(history)"
   ]
  },
  {
   "cell_type": "markdown",
   "id": "95577b1c",
   "metadata": {},
   "source": [
    "## First Version of the Model"
   ]
  },
  {
   "cell_type": "code",
   "execution_count": 21,
   "id": "e5bc667d",
   "metadata": {},
   "outputs": [],
   "source": [
    "if 0:\n",
    "    model = Sequential()\n",
    "    model.add(Flatten(input_shape = (160,320,3)))\n",
    "    model.add(Dense(1))\n",
    "    model.compile(loss = 'mse', optimizer = 'adam')\n",
    "    model.summary()\n",
    "    \n",
    "    history = model.fit(X_train, y_train, validation_split = 0.2, shuffle = True, epochs = EPOCH)#The `nb_epoch` argument in `fit` has been renamed `epochs`.\n",
    "    model.save('model.h5')\n",
    "    model_1 = model\n",
    "    plot_mse(history)"
   ]
  }
 ],
 "metadata": {
  "kernelspec": {
   "display_name": "Python 3",
   "language": "python",
   "name": "python3"
  },
  "language_info": {
   "codemirror_mode": {
    "name": "ipython",
    "version": 3
   },
   "file_extension": ".py",
   "mimetype": "text/x-python",
   "name": "python",
   "nbconvert_exporter": "python",
   "pygments_lexer": "ipython3",
   "version": "3.6.3"
  }
 },
 "nbformat": 4,
 "nbformat_minor": 5
}
