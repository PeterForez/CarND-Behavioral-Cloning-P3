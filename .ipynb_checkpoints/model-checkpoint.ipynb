{
 "cells": [
  {
   "cell_type": "markdown",
   "id": "b21ed8cf",
   "metadata": {},
   "source": [
    "# Import Libraries"
   ]
  },
  {
   "cell_type": "code",
   "execution_count": 19,
   "id": "1cc3c79c",
   "metadata": {},
   "outputs": [],
   "source": [
    "import csv\n",
    "import cv2\n",
    "import numpy as np\n",
    "import matplotlib.pyplot as plt\n",
    "\n",
    "\n",
    "from keras.models import Sequential\n",
    "from keras.layers import Flatten, Dense, Lambda, Cropping2D\n",
    "from keras.layers.convolutional import Convolution2D, Conv2D\n",
    "from keras.layers.pooling       import MaxPooling2D"
   ]
  },
  {
   "cell_type": "code",
   "execution_count": 2,
   "id": "81cccddd",
   "metadata": {},
   "outputs": [],
   "source": [
    "EPOCH = 5"
   ]
  },
  {
   "cell_type": "code",
   "execution_count": 3,
   "id": "3a8e939c",
   "metadata": {},
   "outputs": [],
   "source": [
    "def plot_mse(history):\n",
    "    plt.plot(history.history['loss'])\n",
    "    plt.plot(history.history['val_loss'])\n",
    "    plt.title('model mean squared error loss')\n",
    "    plt.ylabel('mean squared error loss')\n",
    "    plt.xlabel('epoch')\n",
    "    plt.legend(['training set', 'validation set'], loc='upper right')\n",
    "    plt.show()"
   ]
  },
  {
   "cell_type": "code",
   "execution_count": 4,
   "id": "0d1d3f3d",
   "metadata": {},
   "outputs": [],
   "source": [
    "lines = []\n",
    "#with open('../data/driving_log.csv') as csvfile:\n",
    "with open('data/driving_log.csv') as csvfile:\n",
    "    reader = csv.reader(csvfile)\n",
    "    for line in reader:\n",
    "        lines.append(line)\n",
    "lines = lines[1:]"
   ]
  },
  {
   "cell_type": "code",
   "execution_count": 5,
   "id": "dc6592f1",
   "metadata": {},
   "outputs": [
    {
     "name": "stdout",
     "output_type": "stream",
     "text": [
      "We have 8036 images for training\n"
     ]
    }
   ],
   "source": [
    "print(\"We have {} images for training\".format(len(lines)))"
   ]
  },
  {
   "cell_type": "code",
   "execution_count": 6,
   "id": "ea709113",
   "metadata": {},
   "outputs": [
    {
     "data": {
      "text/plain": [
       "['IMG/center_2016_12_01_13_30_48_287.jpg',\n",
       " ' IMG/left_2016_12_01_13_30_48_287.jpg',\n",
       " ' IMG/right_2016_12_01_13_30_48_287.jpg',\n",
       " ' 0',\n",
       " ' 0',\n",
       " ' 0',\n",
       " ' 22.14829']"
      ]
     },
     "execution_count": 6,
     "metadata": {},
     "output_type": "execute_result"
    }
   ],
   "source": [
    "lines[0]"
   ]
  },
  {
   "cell_type": "code",
   "execution_count": 7,
   "id": "f1e85c63",
   "metadata": {},
   "outputs": [],
   "source": [
    "if 1:\n",
    "    images = []\n",
    "    measurements = []\n",
    "    for line in lines:\n",
    "        source_path = line[0]\n",
    "        filename = source_path.split('/')[-1]\n",
    "        #current_path = '../data/IMG' + filename\n",
    "        current_path = 'data/IMG/' + filename\n",
    "\n",
    "        image = cv2.imread(current_path)\n",
    "        images.append(image)\n",
    "\n",
    "        measurement = float(line[3])\n",
    "        measurements.append(measurement)"
   ]
  },
  {
   "cell_type": "code",
   "execution_count": 8,
   "id": "8a02c444",
   "metadata": {},
   "outputs": [
    {
     "name": "stdout",
     "output_type": "stream",
     "text": [
      "We have 8036 images for training\n"
     ]
    }
   ],
   "source": [
    "print(\"We have {} images for training\".format(len(images)))"
   ]
  },
  {
   "cell_type": "code",
   "execution_count": 9,
   "id": "a4e2af93",
   "metadata": {},
   "outputs": [],
   "source": [
    "correction = 0.2\n",
    "add_left   = 0\n",
    "add_right  = 0\n",
    "\n",
    "images = []\n",
    "measurements = []\n",
    "path = 'data/IMG/'\n",
    "for line in lines:\n",
    "    path_c = path + line[0].split('/')[-1]\n",
    "    steering_c = float(line[3])\n",
    "    image_c = cv2.imread(path_c)\n",
    "    images.append(image_c)\n",
    "    measurements.append(steering_c)\n",
    "    \n",
    "    if add_left:\n",
    "        path_l = path + line[1].split('/')[-1]\n",
    "        steering_l = steering_c + correction\n",
    "        image_l = cv2.imread(path_l)\n",
    "        images.append(image_l)\n",
    "        measurements.append(steering_l)\n",
    "    if add_right:\n",
    "        path_r = path + line[2].split('/')[-1]\n",
    "        steering_r = steering_c - correction\n",
    "        image_r = cv2.imread(path_r)\n",
    "        images.append(image_r)\n",
    "        measurements.append(steering_r)"
   ]
  },
  {
   "cell_type": "code",
   "execution_count": 10,
   "id": "63aeaf73",
   "metadata": {},
   "outputs": [
    {
     "name": "stdout",
     "output_type": "stream",
     "text": [
      "We have 8036 images for training\n"
     ]
    }
   ],
   "source": [
    "print(\"We have {} images for training\".format(len(images)))"
   ]
  },
  {
   "cell_type": "markdown",
   "id": "36c1513c",
   "metadata": {},
   "source": [
    "# Augmenting the Data by flipping horizontally"
   ]
  },
  {
   "cell_type": "code",
   "execution_count": 11,
   "id": "42574255",
   "metadata": {},
   "outputs": [],
   "source": [
    "augmented_images, augmented_measurments = [], []\n",
    "for image, measurement in zip(images, measurements):\n",
    "    augmented_images.append(image)\n",
    "    augmented_images.append(cv2.flip(image,1))\n",
    "    \n",
    "    augmented_measurments.append(measurement)\n",
    "    augmented_measurments.append(measurement*-1.0)"
   ]
  },
  {
   "cell_type": "code",
   "execution_count": 12,
   "id": "795ff27e",
   "metadata": {},
   "outputs": [
    {
     "name": "stdout",
     "output_type": "stream",
     "text": [
      "We have 16072 images for training\n"
     ]
    }
   ],
   "source": [
    "print(\"We have {} images for training\".format(len(augmented_images)))"
   ]
  },
  {
   "cell_type": "code",
   "execution_count": 13,
   "id": "b6cca39f",
   "metadata": {},
   "outputs": [],
   "source": [
    "add_flip = 1\n",
    "if add_flip:\n",
    "    X_train = np.array(augmented_images)\n",
    "    y_train = np.array(augmented_measurments)\n",
    "else: \n",
    "    X_train = np.array(images)\n",
    "    y_train = np.array(measurements)"
   ]
  },
  {
   "cell_type": "code",
   "execution_count": 14,
   "id": "65cf0a66",
   "metadata": {},
   "outputs": [
    {
     "data": {
      "text/plain": [
       "((16072, 160, 320, 3), (16072,))"
      ]
     },
     "execution_count": 14,
     "metadata": {},
     "output_type": "execute_result"
    }
   ],
   "source": [
    "X_train.shape, y_train.shape"
   ]
  },
  {
   "cell_type": "markdown",
   "id": "7439af39",
   "metadata": {},
   "source": [
    "## Fifth Version of the Model"
   ]
  },
  {
   "cell_type": "code",
   "execution_count": 24,
   "id": "71d85e76",
   "metadata": {},
   "outputs": [
    {
     "name": "stderr",
     "output_type": "stream",
     "text": [
      "C:\\Users\\peter.forez\\.conda\\envs\\carnd-term1\\lib\\site-packages\\ipykernel_launcher.py:5: UserWarning: Update your `Conv2D` call to the Keras 2 API: `Conv2D(24, (5, 5), activation=\"relu\", strides=(2, 2))`\n",
      "  \"\"\"\n",
      "C:\\Users\\peter.forez\\.conda\\envs\\carnd-term1\\lib\\site-packages\\ipykernel_launcher.py:6: UserWarning: Update your `Conv2D` call to the Keras 2 API: `Conv2D(36, (5, 5), activation=\"relu\", strides=(2, 2))`\n",
      "  \n",
      "C:\\Users\\peter.forez\\.conda\\envs\\carnd-term1\\lib\\site-packages\\ipykernel_launcher.py:7: UserWarning: Update your `Conv2D` call to the Keras 2 API: `Conv2D(48, (5, 5), activation=\"relu\", strides=(2, 2))`\n",
      "  import sys\n"
     ]
    },
    {
     "name": "stdout",
     "output_type": "stream",
     "text": [
      "Train on 12857 samples, validate on 3215 samples\n",
      "Epoch 1/5\n",
      "12857/12857 [==============================] - 168s 13ms/step - loss: 0.0114 - val_loss: 0.0105\n",
      "Epoch 2/5\n",
      "12857/12857 [==============================] - 156s 12ms/step - loss: 0.0098 - val_loss: 0.0106\n",
      "Epoch 3/5\n",
      "12857/12857 [==============================] - 147s 11ms/step - loss: 0.0094 - val_loss: 0.0112\n",
      "Epoch 4/5\n",
      "12857/12857 [==============================] - 152s 12ms/step - loss: 0.0091 - val_loss: 0.0102\n",
      "Epoch 5/5\n",
      "12857/12857 [==============================] - 153s 12ms/step - loss: 0.0086 - val_loss: 0.0103\n"
     ]
    },
    {
     "data": {
      "image/png": "[encoded data removed]",
      "text/plain": [
       "<Figure size 432x288 with 1 Axes>"
      ]
     },
     "metadata": {
      "needs_background": "light"
     },
     "output_type": "display_data"
    }
   ],
   "source": [
    "if 1:\n",
    "    model = Sequential()\n",
    "    model.add(Lambda(lambda x : x / 255.0 - 0.5, input_shape = (160,320,3)))\n",
    "    model.add(Cropping2D(cropping = ((70, 25), (0,0) )))\n",
    "    model.add(Conv2D(24,(5,5), subsample = (2,2), activation = 'relu'))\n",
    "    model.add(Conv2D(36,(5,5), subsample = (2,2), activation = 'relu'))\n",
    "    model.add(Conv2D(48,(5,5), subsample = (2,2), activation = 'relu'))\n",
    "    model.add(Conv2D(64,(3,3), activation = 'relu'))\n",
    "    model.add(Conv2D(64,(3,3), activation = 'relu'))\n",
    "    model.add(Flatten())\n",
    "    model.add(Dense(100))\n",
    "    model.add(Dense(50))\n",
    "    model.add(Dense(10))\n",
    "    model.add(Dense(1))\n",
    "    model.compile(loss = 'mse', optimizer = 'adam')\n",
    "    model.summary()\n",
    "    \n",
    "    history = model.fit(X_train, y_train, validation_split = 0.2, shuffle = True, epochs = EPOCH)#The `nb_epoch` argument in `fit` has been renamed `epochs`.\n",
    "    model.save('model.h5')\n",
    "    model_1 = model\n",
    "    plot_mse(history)"
   ]
  },
  {
   "cell_type": "markdown",
   "id": "d0b283d2",
   "metadata": {},
   "source": [
    "## Fourth Version of the Model"
   ]
  },
  {
   "cell_type": "code",
   "execution_count": 20,
   "id": "2a604892",
   "metadata": {},
   "outputs": [
    {
     "name": "stdout",
     "output_type": "stream",
     "text": [
      "Train on 12857 samples, validate on 3215 samples\n",
      "Epoch 1/5\n",
      "12857/12857 [==============================] - 256s 20ms/step - loss: 1.0095 - val_loss: 0.0135\n",
      "Epoch 2/5\n",
      "12857/12857 [==============================] - 250s 19ms/step - loss: 0.0120 - val_loss: 0.0123\n",
      "Epoch 3/5\n",
      "12857/12857 [==============================] - 228s 18ms/step - loss: 0.0106 - val_loss: 0.0119\n",
      "Epoch 4/5\n",
      "12857/12857 [==============================] - 244s 19ms/step - loss: 0.0098 - val_loss: 0.0119\n",
      "Epoch 5/5\n",
      "12857/12857 [==============================] - 249s 19ms/step - loss: 0.0092 - val_loss: 0.0121\n"
     ]
    },
    {
     "data": {
      "image/png": "[encoded data removed]",
      "text/plain": [
       "<Figure size 432x288 with 1 Axes>"
      ]
     },
     "metadata": {
      "needs_background": "light"
     },
     "output_type": "display_data"
    }
   ],
   "source": [
    "if 1:\n",
    "    model = Sequential()\n",
    "    model.add(Lambda(lambda x : x / 255.0 - 0.5, input_shape = (160,320,3)))\n",
    "    model.add(Cropping2D(cropping = ((70, 25), (0,0) )))\n",
    "    #model.add(Convolution2D(6,5,5,activation = 'relu'))\n",
    "    model.add(Conv2D(6,(5,5),activation = 'relu'))\n",
    "    model.add(MaxPooling2D())\n",
    "    #model.add(Convolution2D(6,5,5,activation = 'relu'))\n",
    "    model.add(Conv2D(6,(5,5),activation = 'relu'))\n",
    "    model.add(Flatten())\n",
    "    model.add(Dense(120))\n",
    "    model.add(Dense(84))\n",
    "    model.add(Dense(1))\n",
    "    model.compile(loss = 'mse', optimizer = 'adam')\n",
    "    model.summary()\n",
    "    \n",
    "    history = model.fit(X_train, y_train, validation_split = 0.2, shuffle = True, epochs = EPOCH)#The `nb_epoch` argument in `fit` has been renamed `epochs`.\n",
    "    model.save('model.h5')\n",
    "    model_1 = model\n",
    "    plot_mse(history)"
   ]
  },
  {
   "cell_type": "markdown",
   "id": "572b1813",
   "metadata": {},
   "source": [
    "## Third Version of the Model"
   ]
  },
  {
   "cell_type": "code",
   "execution_count": 17,
   "id": "790749a2",
   "metadata": {},
   "outputs": [
    {
     "name": "stdout",
     "output_type": "stream",
     "text": [
      "Train on 12857 samples, validate on 3215 samples\n",
      "Epoch 1/5\n",
      "11136/12857 [========================>.....] - ETA: 1:11 - loss: 8.7266"
     ]
    },
    {
     "ename": "KeyboardInterrupt",
     "evalue": "",
     "output_type": "error",
     "traceback": [
      "\u001b[1;31m---------------------------------------------------------------------------\u001b[0m",
      "\u001b[1;31mKeyboardInterrupt\u001b[0m                         Traceback (most recent call last)",
      "\u001b[1;32m<ipython-input-17-7472787bb113>\u001b[0m in \u001b[0;36m<module>\u001b[1;34m\u001b[0m\n\u001b[0;32m     13\u001b[0m     \u001b[0mmodel\u001b[0m\u001b[1;33m.\u001b[0m\u001b[0mcompile\u001b[0m\u001b[1;33m(\u001b[0m\u001b[0mloss\u001b[0m \u001b[1;33m=\u001b[0m \u001b[1;34m'mse'\u001b[0m\u001b[1;33m,\u001b[0m \u001b[0moptimizer\u001b[0m \u001b[1;33m=\u001b[0m \u001b[1;34m'adam'\u001b[0m\u001b[1;33m)\u001b[0m\u001b[1;33m\u001b[0m\u001b[0m\n\u001b[0;32m     14\u001b[0m \u001b[1;33m\u001b[0m\u001b[0m\n\u001b[1;32m---> 15\u001b[1;33m     \u001b[0mhistory\u001b[0m \u001b[1;33m=\u001b[0m \u001b[0mmodel\u001b[0m\u001b[1;33m.\u001b[0m\u001b[0mfit\u001b[0m\u001b[1;33m(\u001b[0m\u001b[0mX_train\u001b[0m\u001b[1;33m,\u001b[0m \u001b[0my_train\u001b[0m\u001b[1;33m,\u001b[0m \u001b[0mvalidation_split\u001b[0m \u001b[1;33m=\u001b[0m \u001b[1;36m0.2\u001b[0m\u001b[1;33m,\u001b[0m \u001b[0mshuffle\u001b[0m \u001b[1;33m=\u001b[0m \u001b[1;32mTrue\u001b[0m\u001b[1;33m,\u001b[0m \u001b[0mepochs\u001b[0m \u001b[1;33m=\u001b[0m \u001b[0mEPOCH\u001b[0m\u001b[1;33m)\u001b[0m\u001b[1;31m#The `nb_epoch` argument in `fit` has been renamed `epochs`.\u001b[0m\u001b[1;33m\u001b[0m\u001b[0m\n\u001b[0m\u001b[0;32m     16\u001b[0m     \u001b[0mmodel\u001b[0m\u001b[1;33m.\u001b[0m\u001b[0msave\u001b[0m\u001b[1;33m(\u001b[0m\u001b[1;34m'model.h5'\u001b[0m\u001b[1;33m)\u001b[0m\u001b[1;33m\u001b[0m\u001b[0m\n\u001b[0;32m     17\u001b[0m     \u001b[0mmodel_1\u001b[0m \u001b[1;33m=\u001b[0m \u001b[0mmodel\u001b[0m\u001b[1;33m\u001b[0m\u001b[0m\n",
      "\u001b[1;32m~\\.conda\\envs\\carnd-term1\\lib\\site-packages\\keras\\engine\\training.py\u001b[0m in \u001b[0;36mfit\u001b[1;34m(self, x, y, batch_size, epochs, verbose, callbacks, validation_split, validation_data, shuffle, class_weight, sample_weight, initial_epoch, steps_per_epoch, validation_steps, **kwargs)\u001b[0m\n\u001b[0;32m   1037\u001b[0m                                         \u001b[0minitial_epoch\u001b[0m\u001b[1;33m=\u001b[0m\u001b[0minitial_epoch\u001b[0m\u001b[1;33m,\u001b[0m\u001b[1;33m\u001b[0m\u001b[0m\n\u001b[0;32m   1038\u001b[0m                                         \u001b[0msteps_per_epoch\u001b[0m\u001b[1;33m=\u001b[0m\u001b[0msteps_per_epoch\u001b[0m\u001b[1;33m,\u001b[0m\u001b[1;33m\u001b[0m\u001b[0m\n\u001b[1;32m-> 1039\u001b[1;33m                                         validation_steps=validation_steps)\n\u001b[0m\u001b[0;32m   1040\u001b[0m \u001b[1;33m\u001b[0m\u001b[0m\n\u001b[0;32m   1041\u001b[0m     def evaluate(self, x=None, y=None,\n",
      "\u001b[1;32m~\\.conda\\envs\\carnd-term1\\lib\\site-packages\\keras\\engine\\training_arrays.py\u001b[0m in \u001b[0;36mfit_loop\u001b[1;34m(model, f, ins, out_labels, batch_size, epochs, verbose, callbacks, val_f, val_ins, shuffle, callback_metrics, initial_epoch, steps_per_epoch, validation_steps)\u001b[0m\n\u001b[0;32m    197\u001b[0m                     \u001b[0mins_batch\u001b[0m\u001b[1;33m[\u001b[0m\u001b[0mi\u001b[0m\u001b[1;33m]\u001b[0m \u001b[1;33m=\u001b[0m \u001b[0mins_batch\u001b[0m\u001b[1;33m[\u001b[0m\u001b[0mi\u001b[0m\u001b[1;33m]\u001b[0m\u001b[1;33m.\u001b[0m\u001b[0mtoarray\u001b[0m\u001b[1;33m(\u001b[0m\u001b[1;33m)\u001b[0m\u001b[1;33m\u001b[0m\u001b[0m\n\u001b[0;32m    198\u001b[0m \u001b[1;33m\u001b[0m\u001b[0m\n\u001b[1;32m--> 199\u001b[1;33m                 \u001b[0mouts\u001b[0m \u001b[1;33m=\u001b[0m \u001b[0mf\u001b[0m\u001b[1;33m(\u001b[0m\u001b[0mins_batch\u001b[0m\u001b[1;33m)\u001b[0m\u001b[1;33m\u001b[0m\u001b[0m\n\u001b[0m\u001b[0;32m    200\u001b[0m                 \u001b[0mouts\u001b[0m \u001b[1;33m=\u001b[0m \u001b[0mto_list\u001b[0m\u001b[1;33m(\u001b[0m\u001b[0mouts\u001b[0m\u001b[1;33m)\u001b[0m\u001b[1;33m\u001b[0m\u001b[0m\n\u001b[0;32m    201\u001b[0m                 \u001b[1;32mfor\u001b[0m \u001b[0ml\u001b[0m\u001b[1;33m,\u001b[0m \u001b[0mo\u001b[0m \u001b[1;32min\u001b[0m \u001b[0mzip\u001b[0m\u001b[1;33m(\u001b[0m\u001b[0mout_labels\u001b[0m\u001b[1;33m,\u001b[0m \u001b[0mouts\u001b[0m\u001b[1;33m)\u001b[0m\u001b[1;33m:\u001b[0m\u001b[1;33m\u001b[0m\u001b[0m\n",
      "\u001b[1;32m~\\.conda\\envs\\carnd-term1\\lib\\site-packages\\keras\\backend\\tensorflow_backend.py\u001b[0m in \u001b[0;36m__call__\u001b[1;34m(self, inputs)\u001b[0m\n\u001b[0;32m   2719\u001b[0m                     \u001b[1;34m'In order to feed symbolic tensors to a Keras model '\u001b[0m\u001b[1;33m\u001b[0m\u001b[0m\n\u001b[0;32m   2720\u001b[0m                     'in TensorFlow, you need tensorflow 1.8 or higher.')\n\u001b[1;32m-> 2721\u001b[1;33m             \u001b[1;32mreturn\u001b[0m \u001b[0mself\u001b[0m\u001b[1;33m.\u001b[0m\u001b[0m_legacy_call\u001b[0m\u001b[1;33m(\u001b[0m\u001b[0minputs\u001b[0m\u001b[1;33m)\u001b[0m\u001b[1;33m\u001b[0m\u001b[0m\n\u001b[0m\u001b[0;32m   2722\u001b[0m \u001b[1;33m\u001b[0m\u001b[0m\n\u001b[0;32m   2723\u001b[0m \u001b[1;33m\u001b[0m\u001b[0m\n",
      "\u001b[1;32m~\\.conda\\envs\\carnd-term1\\lib\\site-packages\\keras\\backend\\tensorflow_backend.py\u001b[0m in \u001b[0;36m_legacy_call\u001b[1;34m(self, inputs)\u001b[0m\n\u001b[0;32m   2691\u001b[0m         \u001b[0msession\u001b[0m \u001b[1;33m=\u001b[0m \u001b[0mget_session\u001b[0m\u001b[1;33m(\u001b[0m\u001b[1;33m)\u001b[0m\u001b[1;33m\u001b[0m\u001b[0m\n\u001b[0;32m   2692\u001b[0m         updated = session.run(fetches=fetches, feed_dict=feed_dict,\n\u001b[1;32m-> 2693\u001b[1;33m                               **self.session_kwargs)\n\u001b[0m\u001b[0;32m   2694\u001b[0m         \u001b[1;32mreturn\u001b[0m \u001b[0mupdated\u001b[0m\u001b[1;33m[\u001b[0m\u001b[1;33m:\u001b[0m\u001b[0mlen\u001b[0m\u001b[1;33m(\u001b[0m\u001b[0mself\u001b[0m\u001b[1;33m.\u001b[0m\u001b[0moutputs\u001b[0m\u001b[1;33m)\u001b[0m\u001b[1;33m]\u001b[0m\u001b[1;33m\u001b[0m\u001b[0m\n\u001b[0;32m   2695\u001b[0m \u001b[1;33m\u001b[0m\u001b[0m\n",
      "\u001b[1;32m~\\.conda\\envs\\carnd-term1\\lib\\site-packages\\tensorflow\\python\\client\\session.py\u001b[0m in \u001b[0;36mrun\u001b[1;34m(self, fetches, feed_dict, options, run_metadata)\u001b[0m\n\u001b[0;32m    893\u001b[0m     \u001b[1;32mtry\u001b[0m\u001b[1;33m:\u001b[0m\u001b[1;33m\u001b[0m\u001b[0m\n\u001b[0;32m    894\u001b[0m       result = self._run(None, fetches, feed_dict, options_ptr,\n\u001b[1;32m--> 895\u001b[1;33m                          run_metadata_ptr)\n\u001b[0m\u001b[0;32m    896\u001b[0m       \u001b[1;32mif\u001b[0m \u001b[0mrun_metadata\u001b[0m\u001b[1;33m:\u001b[0m\u001b[1;33m\u001b[0m\u001b[0m\n\u001b[0;32m    897\u001b[0m         \u001b[0mproto_data\u001b[0m \u001b[1;33m=\u001b[0m \u001b[0mtf_session\u001b[0m\u001b[1;33m.\u001b[0m\u001b[0mTF_GetBuffer\u001b[0m\u001b[1;33m(\u001b[0m\u001b[0mrun_metadata_ptr\u001b[0m\u001b[1;33m)\u001b[0m\u001b[1;33m\u001b[0m\u001b[0m\n",
      "\u001b[1;32m~\\.conda\\envs\\carnd-term1\\lib\\site-packages\\tensorflow\\python\\client\\session.py\u001b[0m in \u001b[0;36m_run\u001b[1;34m(self, handle, fetches, feed_dict, options, run_metadata)\u001b[0m\n\u001b[0;32m   1122\u001b[0m     \u001b[1;32mif\u001b[0m \u001b[0mfinal_fetches\u001b[0m \u001b[1;32mor\u001b[0m \u001b[0mfinal_targets\u001b[0m \u001b[1;32mor\u001b[0m \u001b[1;33m(\u001b[0m\u001b[0mhandle\u001b[0m \u001b[1;32mand\u001b[0m \u001b[0mfeed_dict_tensor\u001b[0m\u001b[1;33m)\u001b[0m\u001b[1;33m:\u001b[0m\u001b[1;33m\u001b[0m\u001b[0m\n\u001b[0;32m   1123\u001b[0m       results = self._do_run(handle, final_targets, final_fetches,\n\u001b[1;32m-> 1124\u001b[1;33m                              feed_dict_tensor, options, run_metadata)\n\u001b[0m\u001b[0;32m   1125\u001b[0m     \u001b[1;32melse\u001b[0m\u001b[1;33m:\u001b[0m\u001b[1;33m\u001b[0m\u001b[0m\n\u001b[0;32m   1126\u001b[0m       \u001b[0mresults\u001b[0m \u001b[1;33m=\u001b[0m \u001b[1;33m[\u001b[0m\u001b[1;33m]\u001b[0m\u001b[1;33m\u001b[0m\u001b[0m\n",
      "\u001b[1;32m~\\.conda\\envs\\carnd-term1\\lib\\site-packages\\tensorflow\\python\\client\\session.py\u001b[0m in \u001b[0;36m_do_run\u001b[1;34m(self, handle, target_list, fetch_list, feed_dict, options, run_metadata)\u001b[0m\n\u001b[0;32m   1319\u001b[0m     \u001b[1;32mif\u001b[0m \u001b[0mhandle\u001b[0m \u001b[1;32mis\u001b[0m \u001b[1;32mNone\u001b[0m\u001b[1;33m:\u001b[0m\u001b[1;33m\u001b[0m\u001b[0m\n\u001b[0;32m   1320\u001b[0m       return self._do_call(_run_fn, self._session, feeds, fetches, targets,\n\u001b[1;32m-> 1321\u001b[1;33m                            options, run_metadata)\n\u001b[0m\u001b[0;32m   1322\u001b[0m     \u001b[1;32melse\u001b[0m\u001b[1;33m:\u001b[0m\u001b[1;33m\u001b[0m\u001b[0m\n\u001b[0;32m   1323\u001b[0m       \u001b[1;32mreturn\u001b[0m \u001b[0mself\u001b[0m\u001b[1;33m.\u001b[0m\u001b[0m_do_call\u001b[0m\u001b[1;33m(\u001b[0m\u001b[0m_prun_fn\u001b[0m\u001b[1;33m,\u001b[0m \u001b[0mself\u001b[0m\u001b[1;33m.\u001b[0m\u001b[0m_session\u001b[0m\u001b[1;33m,\u001b[0m \u001b[0mhandle\u001b[0m\u001b[1;33m,\u001b[0m \u001b[0mfeeds\u001b[0m\u001b[1;33m,\u001b[0m \u001b[0mfetches\u001b[0m\u001b[1;33m)\u001b[0m\u001b[1;33m\u001b[0m\u001b[0m\n",
      "\u001b[1;32m~\\.conda\\envs\\carnd-term1\\lib\\site-packages\\tensorflow\\python\\client\\session.py\u001b[0m in \u001b[0;36m_do_call\u001b[1;34m(self, fn, *args)\u001b[0m\n\u001b[0;32m   1325\u001b[0m   \u001b[1;32mdef\u001b[0m \u001b[0m_do_call\u001b[0m\u001b[1;33m(\u001b[0m\u001b[0mself\u001b[0m\u001b[1;33m,\u001b[0m \u001b[0mfn\u001b[0m\u001b[1;33m,\u001b[0m \u001b[1;33m*\u001b[0m\u001b[0margs\u001b[0m\u001b[1;33m)\u001b[0m\u001b[1;33m:\u001b[0m\u001b[1;33m\u001b[0m\u001b[0m\n\u001b[0;32m   1326\u001b[0m     \u001b[1;32mtry\u001b[0m\u001b[1;33m:\u001b[0m\u001b[1;33m\u001b[0m\u001b[0m\n\u001b[1;32m-> 1327\u001b[1;33m       \u001b[1;32mreturn\u001b[0m \u001b[0mfn\u001b[0m\u001b[1;33m(\u001b[0m\u001b[1;33m*\u001b[0m\u001b[0margs\u001b[0m\u001b[1;33m)\u001b[0m\u001b[1;33m\u001b[0m\u001b[0m\n\u001b[0m\u001b[0;32m   1328\u001b[0m     \u001b[1;32mexcept\u001b[0m \u001b[0merrors\u001b[0m\u001b[1;33m.\u001b[0m\u001b[0mOpError\u001b[0m \u001b[1;32mas\u001b[0m \u001b[0me\u001b[0m\u001b[1;33m:\u001b[0m\u001b[1;33m\u001b[0m\u001b[0m\n\u001b[0;32m   1329\u001b[0m       \u001b[0mmessage\u001b[0m \u001b[1;33m=\u001b[0m \u001b[0mcompat\u001b[0m\u001b[1;33m.\u001b[0m\u001b[0mas_text\u001b[0m\u001b[1;33m(\u001b[0m\u001b[0me\u001b[0m\u001b[1;33m.\u001b[0m\u001b[0mmessage\u001b[0m\u001b[1;33m)\u001b[0m\u001b[1;33m\u001b[0m\u001b[0m\n",
      "\u001b[1;32m~\\.conda\\envs\\carnd-term1\\lib\\site-packages\\tensorflow\\python\\client\\session.py\u001b[0m in \u001b[0;36m_run_fn\u001b[1;34m(session, feed_dict, fetch_list, target_list, options, run_metadata)\u001b[0m\n\u001b[0;32m   1304\u001b[0m           return tf_session.TF_Run(session, options,\n\u001b[0;32m   1305\u001b[0m                                    \u001b[0mfeed_dict\u001b[0m\u001b[1;33m,\u001b[0m \u001b[0mfetch_list\u001b[0m\u001b[1;33m,\u001b[0m \u001b[0mtarget_list\u001b[0m\u001b[1;33m,\u001b[0m\u001b[1;33m\u001b[0m\u001b[0m\n\u001b[1;32m-> 1306\u001b[1;33m                                    status, run_metadata)\n\u001b[0m\u001b[0;32m   1307\u001b[0m \u001b[1;33m\u001b[0m\u001b[0m\n\u001b[0;32m   1308\u001b[0m     \u001b[1;32mdef\u001b[0m \u001b[0m_prun_fn\u001b[0m\u001b[1;33m(\u001b[0m\u001b[0msession\u001b[0m\u001b[1;33m,\u001b[0m \u001b[0mhandle\u001b[0m\u001b[1;33m,\u001b[0m \u001b[0mfeed_dict\u001b[0m\u001b[1;33m,\u001b[0m \u001b[0mfetch_list\u001b[0m\u001b[1;33m)\u001b[0m\u001b[1;33m:\u001b[0m\u001b[1;33m\u001b[0m\u001b[0m\n",
      "\u001b[1;31mKeyboardInterrupt\u001b[0m: "
     ]
    }
   ],
   "source": [
    "if 1:\n",
    "    model = Sequential()\n",
    "    model.add(Lambda(lambda x : x / 255.0 - 0.5, input_shape = (160,320,3)))\n",
    "    #model.add(Convolution2D(6,5,5,activation = 'relu'))\n",
    "    model.add(Conv2D(6,(5,5),activation = 'relu'))\n",
    "    model.add(MaxPooling2D())\n",
    "    #model.add(Convolution2D(6,5,5,activation = 'relu'))\n",
    "    model.add(Conv2D(6,(5,5),activation = 'relu'))\n",
    "    model.add(Flatten())\n",
    "    model.add(Dense(120))\n",
    "    model.add(Dense(84))\n",
    "    model.add(Dense(1))\n",
    "    model.compile(loss = 'mse', optimizer = 'adam')\n",
    "    model.summary()\n",
    "    \n",
    "    history = model.fit(X_train, y_train, validation_split = 0.2, shuffle = True, epochs = EPOCH)#The `nb_epoch` argument in `fit` has been renamed `epochs`.\n",
    "    model.save('model.h5')\n",
    "    model_1 = model\n",
    "    plot_mse(history)"
   ]
  },
  {
   "cell_type": "code",
   "execution_count": null,
   "id": "306ca0ae",
   "metadata": {},
   "outputs": [],
   "source": []
  },
  {
   "cell_type": "markdown",
   "id": "fb7bc880",
   "metadata": {},
   "source": [
    "## Second Version of the Model"
   ]
  },
  {
   "cell_type": "code",
   "execution_count": 16,
   "id": "2c1f68dd",
   "metadata": {},
   "outputs": [
    {
     "name": "stdout",
     "output_type": "stream",
     "text": [
      "Train on 12857 samples, validate on 3215 samples\n",
      "Epoch 1/5\n",
      "12857/12857 [==============================] - 10s 810us/step - loss: 2.8639 - val_loss: 5.9831\n",
      "Epoch 2/5\n",
      "12857/12857 [==============================] - 10s 794us/step - loss: 3.9449 - val_loss: 1.7366\n",
      "Epoch 3/5\n",
      "12857/12857 [==============================] - 14s 1ms/step - loss: 2.7721 - val_loss: 4.0274\n",
      "Epoch 4/5\n",
      "12857/12857 [==============================] - 13s 979us/step - loss: 3.4054 - val_loss: 3.5247\n",
      "Epoch 5/5\n",
      "12857/12857 [==============================] - 12s 940us/step - loss: 3.8739 - val_loss: 5.1830\n"
     ]
    },
    {
     "data": {
      "image/png": "[encoded data removed]",
      "text/plain": [
       "<Figure size 432x288 with 1 Axes>"
      ]
     },
     "metadata": {
      "needs_background": "light"
     },
     "output_type": "display_data"
    }
   ],
   "source": [
    "if 1:\n",
    "    model = Sequential()\n",
    "    model.add(Lambda(lambda x : x / 255.0 - 0.5, input_shape = (160,320,3)))\n",
    "    model.add(Flatten())\n",
    "    model.add(Dense(1))\n",
    "    model.compile(loss = 'mse', optimizer = 'adam')\n",
    "    model.summary()\n",
    "    \n",
    "    history = model.fit(X_train, y_train, validation_split = 0.2, shuffle = True, epochs = EPOCH)#The `nb_epoch` argument in `fit` has been renamed `epochs`.\n",
    "    model.save('model.h5')\n",
    "    model_1 = model\n",
    "    plot_mse(history)"
   ]
  },
  {
   "cell_type": "markdown",
   "id": "11721917",
   "metadata": {},
   "source": [
    "## First Version of the Model"
   ]
  },
  {
   "cell_type": "code",
   "execution_count": 15,
   "id": "e5bc667d",
   "metadata": {},
   "outputs": [
    {
     "name": "stdout",
     "output_type": "stream",
     "text": [
      "Train on 12857 samples, validate on 3215 samples\n",
      "Epoch 1/5\n",
      "12857/12857 [==============================] - 7s 571us/step - loss: 4525545.3883 - val_loss: 4555.5066\n",
      "Epoch 2/5\n",
      "12857/12857 [==============================] - 7s 551us/step - loss: 2678.6850 - val_loss: 2746.0212\n",
      "Epoch 3/5\n",
      "12857/12857 [==============================] - 7s 541us/step - loss: 2156.8356 - val_loss: 1947.6213\n",
      "Epoch 4/5\n",
      "12857/12857 [==============================] - 7s 537us/step - loss: 2401.6207 - val_loss: 1515.6071\n",
      "Epoch 5/5\n",
      "12857/12857 [==============================] - 7s 546us/step - loss: 5266.7246 - val_loss: 2879.5430\n"
     ]
    },
    {
     "data": {
      "image/png": "[encoded data removed]",
      "text/plain": [
       "<Figure size 432x288 with 1 Axes>"
      ]
     },
     "metadata": {
      "needs_background": "light"
     },
     "output_type": "display_data"
    }
   ],
   "source": [
    "if 0:\n",
    "    model = Sequential()\n",
    "    model.add(Flatten(input_shape = (160,320,3)))\n",
    "    model.add(Dense(1))\n",
    "    model.compile(loss = 'mse', optimizer = 'adam')\n",
    "    model.summary()\n",
    "    \n",
    "    history = model.fit(X_train, y_train, validation_split = 0.2, shuffle = True, epochs = EPOCH)#The `nb_epoch` argument in `fit` has been renamed `epochs`.\n",
    "    model.save('model.h5')\n",
    "    model_1 = model\n",
    "    plot_mse(history)"
   ]
  }
 ],
 "metadata": {
  "kernelspec": {
   "display_name": "Python 3",
   "language": "python",
   "name": "python3"
  },
  "language_info": {
   "codemirror_mode": {
    "name": "ipython",
    "version": 3
   },
   "file_extension": ".py",
   "mimetype": "text/x-python",
   "name": "python",
   "nbconvert_exporter": "python",
   "pygments_lexer": "ipython3",
   "version": "3.6.3"
  }
 },
 "nbformat": 4,
 "nbformat_minor": 5
}
